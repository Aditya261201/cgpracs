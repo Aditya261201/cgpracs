{
 "cells": [
  {
   "cell_type": "code",
   "execution_count": 20,
   "id": "7001282d",
   "metadata": {},
   "outputs": [
    {
     "name": "stdout",
     "output_type": "stream",
     "text": [
      "Enter center coordinates:100 100 \n",
      "Enter radius:20\n"
     ]
    },
    {
     "ename": "GraphicsError",
     "evalue": "getMouse in closed window",
     "output_type": "error",
     "traceback": [
      "\u001b[1;31m---------------------------------------------------------------------------\u001b[0m",
      "\u001b[1;31mGraphicsError\u001b[0m                             Traceback (most recent call last)",
      "Input \u001b[1;32mIn [20]\u001b[0m, in \u001b[0;36m<cell line: 46>\u001b[1;34m()\u001b[0m\n\u001b[0;32m     47\u001b[0m x,y \u001b[38;5;241m=\u001b[39m \u001b[38;5;28mmap\u001b[39m(\u001b[38;5;28mint\u001b[39m, \u001b[38;5;28minput\u001b[39m(\u001b[38;5;124m\"\u001b[39m\u001b[38;5;124mEnter center coordinates:\u001b[39m\u001b[38;5;124m\"\u001b[39m)\u001b[38;5;241m.\u001b[39msplit())\n\u001b[0;32m     48\u001b[0m r \u001b[38;5;241m=\u001b[39m \u001b[38;5;28mint\u001b[39m(\u001b[38;5;28minput\u001b[39m(\u001b[38;5;124m\"\u001b[39m\u001b[38;5;124mEnter radius:\u001b[39m\u001b[38;5;124m\"\u001b[39m))\n\u001b[1;32m---> 49\u001b[0m \u001b[43mmidPointCircleDraw\u001b[49m\u001b[43m(\u001b[49m\u001b[43mx\u001b[49m\u001b[43m,\u001b[49m\u001b[43m \u001b[49m\u001b[43my\u001b[49m\u001b[43m,\u001b[49m\u001b[43m \u001b[49m\u001b[43mr\u001b[49m\u001b[43m)\u001b[49m\n",
      "Input \u001b[1;32mIn [20]\u001b[0m, in \u001b[0;36mmidPointCircleDraw\u001b[1;34m(x_centre, y_centre, r)\u001b[0m\n\u001b[0;32m     39\u001b[0m         x \u001b[38;5;241m-\u001b[39m\u001b[38;5;241m=\u001b[39m \u001b[38;5;241m1\u001b[39m\n\u001b[0;32m     40\u001b[0m         P \u001b[38;5;241m=\u001b[39m P \u001b[38;5;241m+\u001b[39m \u001b[38;5;241m2\u001b[39m \u001b[38;5;241m*\u001b[39m y \u001b[38;5;241m-\u001b[39m \u001b[38;5;241m2\u001b[39m \u001b[38;5;241m*\u001b[39m x \u001b[38;5;241m+\u001b[39m \u001b[38;5;241m1\u001b[39m\n\u001b[1;32m---> 41\u001b[0m \u001b[43mwin\u001b[49m\u001b[38;5;241;43m.\u001b[39;49m\u001b[43mgetMouse\u001b[49m\u001b[43m(\u001b[49m\u001b[43m)\u001b[49m\n\u001b[0;32m     42\u001b[0m win\u001b[38;5;241m.\u001b[39mclose()\n",
      "File \u001b[1;32mC:\\python 37\\lib\\site-packages\\graphics\\__init__.py:316\u001b[0m, in \u001b[0;36mGraphWin.getMouse\u001b[1;34m(self)\u001b[0m\n\u001b[0;32m    314\u001b[0m \u001b[38;5;28;01mwhile\u001b[39;00m \u001b[38;5;28mself\u001b[39m\u001b[38;5;241m.\u001b[39mmouseX \u001b[38;5;241m==\u001b[39m \u001b[38;5;28;01mNone\u001b[39;00m \u001b[38;5;129;01mor\u001b[39;00m \u001b[38;5;28mself\u001b[39m\u001b[38;5;241m.\u001b[39mmouseY \u001b[38;5;241m==\u001b[39m \u001b[38;5;28;01mNone\u001b[39;00m:\n\u001b[0;32m    315\u001b[0m     \u001b[38;5;28mself\u001b[39m\u001b[38;5;241m.\u001b[39mupdate()\n\u001b[1;32m--> 316\u001b[0m     \u001b[38;5;28;01mif\u001b[39;00m \u001b[38;5;28mself\u001b[39m\u001b[38;5;241m.\u001b[39misClosed(): \u001b[38;5;28;01mraise\u001b[39;00m GraphicsError(\u001b[38;5;124m\"\u001b[39m\u001b[38;5;124mgetMouse in closed window\u001b[39m\u001b[38;5;124m\"\u001b[39m)\n\u001b[0;32m    317\u001b[0m     time\u001b[38;5;241m.\u001b[39msleep(\u001b[38;5;241m.1\u001b[39m) \u001b[38;5;66;03m# give up thread\u001b[39;00m\n\u001b[0;32m    318\u001b[0m x,y \u001b[38;5;241m=\u001b[39m \u001b[38;5;28mself\u001b[39m\u001b[38;5;241m.\u001b[39mtoWorld(\u001b[38;5;28mself\u001b[39m\u001b[38;5;241m.\u001b[39mmouseX, \u001b[38;5;28mself\u001b[39m\u001b[38;5;241m.\u001b[39mmouseY)\n",
      "\u001b[1;31mGraphicsError\u001b[0m: getMouse in closed window"
     ]
    }
   ],
   "source": [
    "from graphics import *\n",
    "import time\n",
    "from graphics import *\n",
    "import time\n",
    "def midPointCircleDraw(x_centre, y_centre, r):\n",
    "    win = GraphWin('Mid Point Circle Generation Program Output', 600, 480)\n",
    "    x = r\n",
    "    y = 0\n",
    "    P = 1 - r\n",
    "    while x > y:\n",
    "        x1 = x + x_centre\n",
    "        y1 = y + y_centre\n",
    "        x2 = -x + x_centre\n",
    "        y2 = y + y_centre\n",
    "        x3 = x + x_centre\n",
    "        y3 = -y + y_centre\n",
    "        x4 = -x + x_centre\n",
    "        y4 = -y + y_centre\n",
    "        PutPixle(win, x1,y1)\n",
    "        PutPixle(win, x2,y2)\n",
    "        PutPixle(win, x3,y3)\n",
    "        PutPixle(win, x4,y4)\n",
    "        x1 = y + x_centre\n",
    "        y1 = x + y_centre\n",
    "        x2 = -y + x_centre\n",
    "        y2 = x + y_centre\n",
    "        x3 = y + x_centre\n",
    "        y3 = -x + y_centre\n",
    "        x4 = -y + x_centre\n",
    "        y4 =  -x + y_centre\n",
    "        PutPixle(win, x1,y1)\n",
    "        PutPixle(win, x2,y2)\n",
    "        PutPixle(win, x3,y3)\n",
    "        PutPixle(win, x4,y4)\n",
    "        y += 1\n",
    "        if P <= 0:\n",
    "            P = P + 2 * y + 1\n",
    "        else:\n",
    "            x -= 1\n",
    "            P = P + 2 * y - 2 * x + 1\n",
    "    win.getMouse()\n",
    "    win.close()\n",
    "def PutPixle(win, x, y):\n",
    "    pt = Point(x,y)\n",
    "    pt.draw(win)                       \n",
    "if __name__ == '__main__':\n",
    "    x,y = map(int, input(\"Enter center coordinates:\").split())\n",
    "    r = int(input(\"Enter radius:\"))\n",
    "    midPointCircleDraw(x, y, r)\n"
   ]
  },
  {
   "cell_type": "code",
   "execution_count": null,
   "id": "4ff2b435",
   "metadata": {},
   "outputs": [],
   "source": []
  },
  {
   "cell_type": "code",
   "execution_count": null,
   "id": "9ab4f908",
   "metadata": {},
   "outputs": [],
   "source": []
  }
 ],
 "metadata": {
  "kernelspec": {
   "display_name": "Python 3 (ipykernel)",
   "language": "python",
   "name": "python3"
  },
  "language_info": {
   "codemirror_mode": {
    "name": "ipython",
    "version": 3
   },
   "file_extension": ".py",
   "mimetype": "text/x-python",
   "name": "python",
   "nbconvert_exporter": "python",
   "pygments_lexer": "ipython3",
   "version": "3.10.0"
  }
 },
 "nbformat": 4,
 "nbformat_minor": 5
}
