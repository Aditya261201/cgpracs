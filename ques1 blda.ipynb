{
 "cells": [
  {
   "cell_type": "code",
   "execution_count": 1,
   "id": "9f687c31",
   "metadata": {},
   "outputs": [
    {
     "name": "stdout",
     "output_type": "stream",
     "text": [
      "Enter X Cordinate of Starting point of line :- 3\n",
      "Enter Y Cordinate of Starting point of line :- 2\n",
      "Enter X Cordinate of Ending point of line :- 6\n",
      "Enter Y Cordinate of Ending point of line :- 8\n",
      "x cordinates are :-  [3, 4, 5, 5, 6, 6, 7]\n",
      "y cordinates are :-  [2, 3, 4, 5, 6, 7, 8]\n"
     ]
    },
    {
     "data": {
      "image/png": "[encoded data removed]",
      "text/plain": [
       "<Figure size 432x288 with 1 Axes>"
      ]
     },
     "metadata": {
      "needs_background": "light"
     },
     "output_type": "display_data"
    }
   ],
   "source": [
    "import matplotlib.pyplot as plt\n",
    "def drawline(x1,x2,y1,y2):\n",
    "    dy=y2-y1\n",
    "    dx=x2-x1\n",
    "    m=dy/dx\n",
    "    x=[]\n",
    "    y=[]\n",
    "    p=(2*dy)-dx\n",
    "    xnext=x1\n",
    "    ynext=y1\n",
    "    x.append(xnext)\n",
    "    y.append(ynext)\n",
    "    while(xnext<x2 or ynext<y2):\n",
    "        if(m<1):\n",
    "            xnext=x1+1\n",
    "            if(p<0):\n",
    "                ynext=y1\n",
    "                p=p+(2*dy)\n",
    "            else:\n",
    "                ynext=y1+1\n",
    "                p=p+(2*(dy-dx))\n",
    "        else:\n",
    "            ynext=y1+1\n",
    "            if(p<0):\n",
    "                xnext=x1 \n",
    "                p=p+(2*dx)\n",
    "            else:\n",
    "                xnext=x1+1\n",
    "                p=p+(2*(dx-dy))\n",
    "        x.append(xnext)\n",
    "        y.append(ynext)\n",
    "        x1=xnext\n",
    "        y1=ynext\n",
    "    print(\"x cordinates are :- \",x)\n",
    "    print(\"y cordinates are :- \",y)\n",
    "    plt.plot(x,y)\n",
    "    \n",
    "X1=int(input(\"Enter X Cordinate of Starting point of line :- \"))\n",
    "Y1=int(input(\"Enter Y Cordinate of Starting point of line :- \"))\n",
    "X2=int(input(\"Enter X Cordinate of Ending point of line :- \"))\n",
    "Y2=int(input(\"Enter Y Cordinate of Ending point of line :- \"))\n",
    "drawline(X1,X2,Y1,Y2)\n"
   ]
  },
  {
   "cell_type": "code",
   "execution_count": null,
   "id": "f5341c33",
   "metadata": {},
   "outputs": [],
   "source": []
  }
 ],
 "metadata": {
  "kernelspec": {
   "display_name": "Python 3 (ipykernel)",
   "language": "python",
   "name": "python3"
  },
  "language_info": {
   "codemirror_mode": {
    "name": "ipython",
    "version": 3
   },
   "file_extension": ".py",
   "mimetype": "text/x-python",
   "name": "python",
   "nbconvert_exporter": "python",
   "pygments_lexer": "ipython3",
   "version": "3.10.0"
  }
 },
 "nbformat": 4,
 "nbformat_minor": 5
}
